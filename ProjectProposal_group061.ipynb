{
 "cells": [
  {
   "cell_type": "markdown",
   "metadata": {},
   "source": [
    "# COGS 108 - Final Project Proposal"
   ]
  },
  {
   "cell_type": "markdown",
   "metadata": {},
   "source": [
    "# Names\n",
    "- Mylinh Lac (A15587010)\n",
    "- Kelly Li (A15621450)\n",
    "- Braeanne Oribello (A15552152)\n",
    "- Theodore Nguyen (A16138246)\n",
    "- Erika Koh (A15515783)\n"
   ]
  },
  {
   "cell_type": "markdown",
   "metadata": {},
   "source": [
    "# Research Question"
   ]
  },
  {
   "cell_type": "markdown",
   "metadata": {},
   "source": [
    "*How do similarities in government spending within countries ranked in the Top 3 of the World Happiness Report compare to government spending within the United States in 2020?*"
   ]
  },
  {
   "cell_type": "markdown",
   "metadata": {},
   "source": [
    "## Background and Prior Work"
   ]
  },
  {
   "cell_type": "markdown",
   "metadata": {},
   "source": [
    "The World Happiness Report, created by the UN every year, reports the perceived happiness of the people in different countries using a life evaluation survey. In order to predict which countries are the happiest, the report uses several factors including: GDP per capita, social support, healthy life expectancy, freedom to make life choices, generosity, and corruption. Looking at all of these different factors that together form a predictor of life evaluation scores within a given country, it’s been found that government spending on aspects such as allocation to welfare heavily influence scores on life satisfaction (WHR 2020). The reason for this could be that citizens trust and depend on their government more in these countries to financially support them in times of strife or otherwise unexpected circumstances. This could be the case for the Nordic countries that consistently rank high within the World Happiness Report. \n",
    "\n",
    "Additionally, there has been speculation that when citizens in the United States feel they can see tangible progress for the public that is directly funded by their tax dollar, they are likely to report higher life satisfaction as well as satisfaction with their respective government (Jacobs 2018). Perhaps this can be generalized to other countries as well, and so it depends on the governments’ decisions in terms of what sectors and projects they go on to utilize citizens’ money for.\n"
   ]
  },
  {
   "cell_type": "markdown",
   "metadata": {},
   "source": [
    "### References\n",
    " - World Happiness Report 2020\n",
    " - https://psmag.com/economics/new-research-suggests-that-government-spending-can-spread-happiness \n"
   ]
  },
  {
   "cell_type": "markdown",
   "metadata": {},
   "source": [
    "# Hypothesis"
   ]
  },
  {
   "cell_type": "markdown",
   "metadata": {},
   "source": [
    "We hypothesize that the countries ranked in the top 3 of the World Happiness Report in 2020 (Finland, Denmark, Switzerland) have similar spending patterns in 2020 compared to the US. Specifically, we hypothesize that the “happier” countries have spent significantly greater amounts on healthcare, education, and social security compared to the US. We also hypothesize that the happier countries have spent significantly less on military and public safety compared to the US."
   ]
  },
  {
   "cell_type": "markdown",
   "metadata": {},
   "source": [
    "# Data"
   ]
  },
  {
   "cell_type": "markdown",
   "metadata": {},
   "source": [
    "Our ideal dataset to help answer our question would be data on the government spending for each country broken down into healthcare, education and social security during 2020 for the top three countries in the Happiness report: Finland, Denmark, and Switzerland, in addition to the United States. The ideal number of observations will be 4 and this data will be collected from the government websites. We will also be using data on the quality of life based on the World Happiness Report which includes data on life evaluation, log GDP per capita, social support, health life expectancy, freedom, generosity, and corruption for each country."
   ]
  },
  {
   "cell_type": "markdown",
   "metadata": {},
   "source": [
    "# Ethics & Privacy"
   ]
  },
  {
   "cell_type": "markdown",
   "metadata": {},
   "source": [
    "The data we need does not overstep any privacy or ethical requirements for this project is generally available to the public since most countries need to publicize what they’re allocating money towards. Since we’re using data that is collected by government officials, it is reputable since they are the ones generating this data to begin with. Our one concern is that the public data is most likely skewed in some way to depict a country’s benevolence. To assure that our data can be replicable, we will document each step of our research process that we got our findings from. Our research also shouldn’t be expected to produce potential harm because we are specifically choosing to use data that is only available to the public through government sources that anyone can access. Although we are trying to see the impact of government spending on quality of life, there are also other nuanced factors that may affect a country’s quality of life that we don’t consider in our research, like education and data that concerns inequalities between different demographics. Although these are our concerns, we believe that our research will still be fully conducted within the ethical data science guidelines to generate accurate and unbiased results.\n"
   ]
  },
  {
   "cell_type": "markdown",
   "metadata": {},
   "source": [
    "# Team Expectations "
   ]
  },
  {
   "cell_type": "markdown",
   "metadata": {},
   "source": [
    " - Complete the work you’re assigned by the due date\n",
    " - Attend meetings regularly\n",
    " - Respond to messages in a timely manner - within the same day\n",
    " - Be respectful of each other’s ideas\n",
    " - Be willing to learn new things when necessary (i.e. python concepts)\n",
    "Contribute!\n"
   ]
  },
  {
   "cell_type": "markdown",
   "metadata": {},
   "source": [
    "# Project Timeline Proposal"
   ]
  },
  {
   "cell_type": "markdown",
   "metadata": {},
   "source": [
    "| Meeting Date  | Meeting Time| Completed Before Meeting  | Discuss at Meeting |\n",
    "|---|---|---|---|\n",
    "| 1/27  |  4 PM | Read & Think about COGS 108 expectations; brainstorm topics/questions  | Determine best form of communication; Discuss and decide on final project topic; discuss hypothesis; begin background research |\n",
    "| 2/1  |  4 PM |  Search for Datasets |Talk about which data sets we should use and benefits of each. |\n",
    "| 2/8 | 4 PM  | Import and wrangle data | Discuss Wrangling and data cleaning steps. Edit, finalize, and submit Checkpoint #1   |\n",
    "| 2/15  | 4 PM  |Finalize data wrangling/EDA and begin analysis of data | Discuss data analysis and make edits as needed. Finalize and submit Checkpoint #2  |\n",
    "| 3/8  | 4 PM  | Analyze results and start working on conclusion and discussion | Edit entire project and finalize everything before submission |\n"
   ]
  },
  {
   "cell_type": "markdown",
   "metadata": {},
   "source": [
    "#  Checkpoints\n",
    " 1. 1/29 @11:59PM Submit Project Proposal\n",
    " 2. (Week 6) 2/12 @11:59PM Submit Checkpoint #1: Data\n",
    " 3. (Week 8) 2/26 @11:59PM Submit Checkpoint #2: EDA\n",
    " 4. (Finals Week) 3/17 @11:59PM Submit Final Project"
   ]
  }
 ],
 "metadata": {
  "kernelspec": {
   "display_name": "Python 3",
   "language": "python",
   "name": "python3"
  },
  "language_info": {
   "codemirror_mode": {
    "name": "ipython",
    "version": 3
   },
   "file_extension": ".py",
   "mimetype": "text/x-python",
   "name": "python",
   "nbconvert_exporter": "python",
   "pygments_lexer": "ipython3",
   "version": "3.7.6"
  }
 },
 "nbformat": 4,
 "nbformat_minor": 4
}
